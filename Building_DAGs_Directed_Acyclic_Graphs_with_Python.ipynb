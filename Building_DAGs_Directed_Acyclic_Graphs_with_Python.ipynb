{
  "nbformat": 4,
  "nbformat_minor": 0,
  "metadata": {
    "colab": {
      "name": "Building DAGs / Directed Acyclic Graphs with Python.ipynb",
      "provenance": [],
      "collapsed_sections": []
    },
    "kernelspec": {
      "name": "python3",
      "display_name": "Python 3"
    },
    "language_info": {
      "name": "python"
    }
  },
  "cells": [
    {
      "cell_type": "markdown",
      "metadata": {
        "id": "dDR7npCdoHPi"
      },
      "source": [
        "Consider the following DAG:"
      ]
    },
    {
      "cell_type": "markdown",
      "metadata": {
        "id": "1OLEpwujoJSB"
      },
      "source": [
        "![image.png](data:image/png;base64,iVBORw0KGgoAAAANSUhEUgAAAUcAAAGdCAYAAACB7LEiAAAgAElEQVR4Ae2dB5AcxdmGhYSQZChUYIoiI7DJKjA2YKL9Y4yFDGWDMQUKKAIKKOccUTgFlCWUURbKOZw4lBPKOZ50yjnn+P31tmtWt7er3enTbO/07ttVW7sz821P7/PNPTe709OdQ1hIgARIgARCCOQIWcMVJEACJEACQjnyICABEiCBMAQoxzBQuIoESIAEKEceAyRAAiQQhgDlGAYKV5EACZAA5chjgARIgATCEKAcw0DhKhIgARKgHHkMkAAJkEAYApRjGChcRQIkQAKUI48BEiABEghDgHIMA4WrSIAESIBy5DFAAiRAAmEIUI5hoHAVCZAACVCOPAZIgARIIAwByjEMFK4iARIgAcqRxwAJkAAJhCFAOYaBwlUkQAIkQDnyGCABEiCBMAQoxzBQuIoESIAEKEceAyRAAiQQhoAVcnzllVfk7rvvlvvvvz/pHrlz55YRI0aESR1XkQAJxJKA7+V4/fp1yZEjh0yZMkVWrlyZdI+///3vUqtWrVgeA6ybBEggDAFr5Lhv374wzU/8VdWqVaMcEz/N/IQ+JEA5+jApmZtEOWamwdckYI4A5WiOdbb2RDlmCxvfRAK3TIByvGWEsa2AcowtX9ZOAjcjQDnejIxP1lOOPkkEm5F0BChHn6eccvR5gti8hCVAOfo8tZSjzxPE5iUsAcrR56mlHH2eIDYvYQlQjj5PLeXo8wSxeQlLgHL0eWopR58niM1LWAKUYwxTu2vXLvnPf/4j69evz/ZeKMdso+MbSeCWCFCOt4Qv8psff/xxdV/4mjVrIgdG2Eo5RoDDTSQQQwKUYwzhPvjgg5RjDPmyahKIJYGElyMGrNixY4diuHXrVhk1apQcPnw4iOnly5dl1apVamiwGTNmyP79+4O2Z13A9tTUVBk+fLh636VLl4JCLly4IOnp6Wp4NYwoNHXqVLWMEYZ0C88cdYkxngS8IZDwcnznnXfU2VtKSop6hqxy5col06ZNUwQnT54sTz75ZGAbtuPxxRdfyLFjx4IoHz9+XL7++mvJmTNnUDzGmRw/fnwgdvbs2UHbnTrPnz8fiHH7gnJ0S4pxJOAtgaSRoyNFfNXNly+fnDp1SubMmaNEiW2vvfaatGzZUiCj/PnzK7kVLFhQcFaJgrO+999/X63PmzevVKhQQVq1aiX/93//FxChMyjt9u3b1TBjd955p9pWsmRJtezUpZNCylGHFmNJwDsCSSPHu+66S7Zs2aLIHThwQD0XKFBAyatIkSJy9erVAFXI7Z577lHb2rdvr9YPHDhQLefJk0d9lXaCIc2qVauqbRDv6dOnnU3C3xwDKPiCBKwjkDRyLFeuXFByIEqcMWIagnAD6eKsENvffPNN9T4IFMvffvttUD1YOHPmjNx7771qO36LdArl6JDgMwnYRyBp5NixY8eg7AwePFjJ7Omnnw5a7yzMnTtXbf/tb3+rVjm/S+IiTLjy7rvvqvhu3boFNlOOARR8QQLWEUgaOf70009Byenbt6+S2euvvx603lnYsGGD2o6zxWvXrsnDDz+slqdPn+6EBD1/9tlnanvjxo0D6ynHAAq+IAHrCCSNHNGFJ3PB1WqID2eE4Qq+HmM7fntEwQUbLOOMM1zB129s79KlS2Az5RhAwRckYB2BpJXjtm3blMzQLce5UJM5e5jxD7L785//rFYXK1ZMLRcvXjxzmHp96NAh+c1vfqO2Zz6zfOihh9S61atXh7zH7QperXZLinEk4C2BpJUjrjK/9dZbSl6Y/hQXVZyyaNEi1d0HcuzcubNa7ZxJQqbo1O0UdAD//PPPVT3o75i5Q/gTTzyh1qMvZXYL5ZhdcnwfCdwagaSVI7Dhrhj0WYQEH3vsMSlTpox8/PHH6go21pUtW1b1b3QQOxK87bbbpHDhwqpDOC7oIBZXq1Ff5vLGG2+obdjHo48+GvXOm8zvdV5Tjg4JPpOAWQJJI8dx48aFJbtp0yZ5++23BcKD5PCA8Bo0aKAuxGR+E/pC4k4bp5M4YtHRu1ChQrJixYrMoer1/PnzBVe7nbrT0tJCYqKtoByjEeJ2EogNgYSXo1tsZ8+elWXLloXt85i1Dnwlz8jIkOXLlwfuoMka4yxDqHv37pWjR486q7SeKUctXAwmAc8IUI6eoYxNRZRjbLiyVhKIRoByjEYoztspxzgngLtPWgKUo89TTzn6PEFsXsISoBx9nlrK0ecJYvMSlgDl6PPUUo4+TxCbl7AEKEefp5Zy9HmC2LyEJUA5+jy1lKPPE8TmJSwBytHnqaUcfZ4gNi9hCVgjR9y6B1HE44GRvuOxX+wTA1pgEAwWEiABswR8L0fg6NOnjxIEJGH6UblyZSlRooTx/Wb+nOFGDTJ7mHBvJJB8BKyQYzzTgmldK1asGM8mcN8kQAJxIEA5RoF+8OBBweyB2Zk5MErV3EwCJOBjApRjlORgnEdMrnXy5MkokdxMAiSQSAQoxyjZxAg8GOcx3AyFUd7KzSRAAhYToBxdJA8XZbZu3eoikiEkQAKJQoBydJHJunXryq3MA+NiFwwhARLwGQHK0UVCWrRoIQsXLnQRyRASIIFEIUA5ushkx44dBRNssZAACSQPAcrRRa579eolEyZMcBHJEBIggUQhQDm6yOTgwYNl2LBhLiIZQgIkkCgEKEcXmRw7dqz07dvXRSRDSIAEEoUA5egik9OnT5fOnTu7iGQICZBAohCgHF1kct68edKqVSsXkQwhARJIFAKUo4tMrlixQho2bOgikiEkQAKJQoBydJHJTZs2qfEcXYQyhARIIEEIUI4uErl79275+uuvXUQyhARIIFEIUI4uMnn06FEpVqyYnD9/3kU0Q0iABBKBAOXoIosXLlyQ4sWLy5EjR1xEM4QESCARCFCOLrP4zTffyK5du1xGM4wESMB2ApSjywxWr15dNm7c6DKaYSRAArYToBxdZrBRo0ayfPlyl9EMIwESsJ0A5egyg61bt5a5c+e6jGYYCZCA7QQoR5cZ7NKli0ybNs1lNMNIgARsJ0A5usxgv379ZMyYMS6jGUYCJGA7AcrRZQaHDx8ugwYNchnNMBIgAdsJUI4uMzhx4kTp2bOny2iGkQAJ2E6AcnSZwVmzZkmHDh1cRjOMBEjAdgKUo8sMLlq0SJo3b+4ymmEkQAK2E6AcXWZwzZo1UqdOHZfRDCMBErCdAOXoMoPbtm2TSpUquYxmGAmQgO0EKEeXGdy/f7+ULl1arl275vIdDCMBErCZAOXoMnunTp2SIkWKyOnTp12+g2EkQAI2E6AcXWbvypUrUqpUKTlw4IDLdzCMBEjAZgKUo0b2vv32W0lPT9d4B0NJgARsJUA5amSudu3asnbtWo13MJQESMBWApSjRuaaNWsmixcv1ngHQ0mABGwlQDlqZK59+/aSlpam8Q6GkgAJ2EqAcoySuYyMDNmwYYMsXbpUGjduLCkpKTJixAjp3r27jB8/Psq7uZkESMBWApRjlMy1atVKdeFBH0dcrS5RooSaiRDdejiEWRR43EwCFhOgHKMkb926dUqIkGHmx5dffik7duyI8m5uJgESsJUA5Rglc9evX5dq1aoFiRGS/OqrrwTbWEiABBKTAOXoIq9z5syRkiVLBgRZtGhR9Zuji7cyhARIwFIClKOLxF2+fFnKli0bkCN+e1yyZImLdzKEBEjAVgKUo8vMjR49OnD2WKxYMTl37pzLdzKMBEjARgKUo8usYeAJXITB740NGzZ0+S6GkQAJ2EqActTIXK9evZQcMZ8MCwmQQGIToBw18rtnzx4lx127dmm8i6EkQAI2ErBOjidOnJCFCxfG7dGyZcu47RufGyOSs5AACcSegHVyLF++vOTIkUMef/zxuDyeeOKJuOwXn/eOO+5Qnz32hwX3QAIkYJ0c0fkao+MkY8E93vnz50/Gj87PTALGCVCOxpFnf4eUY/bZ8Z0koEuActQlFsd4yjGO8LnrpCNAOVqUcsrRomSxqdYToBwtSiHlaFGy2FTrCVCOFqWQcrQoWWyq9QQoR4tSSDlalCw21XoClKNFKaQcLUoWm2o9AcrRohRSjhYli021ngDlaFEKKUeLksWmWk+AcrQohZSjRcliU60nQDlalELK0aJksanWE6AcLUoh5WhRsthU6wlQjhalkHK0KFlsqvUEKEeXKTx48KBgFsJBgwbJmDFjJD093eU7vQujHL1jyZpIIBoByjEKoXXr1snbb7+txlHEOJKZH1988YVgbhlThXI0RZr7IQERyjHCUXDlyhV55JFHlBCffPJJwUC79evXl5dffjkgyebNm0eowdtNlKO3PFkbCUQiQDlGoDNy5Eglwbvuukv2798fFFm8eHG17Z133glaH8sFyjGWdFk3CQQToByDeQQtbd++XYYOHSrTpk0LWo+F/v37Kzm+9NJLIdtitYJyjBVZ1ksCoQQox1AmIWsyMjJk4MCBUrduXfnkk0/kqaeeCnytLliwYEh8rFZQjrEiy3pJIJQA5RjKJLDm2rVr6nfGXLlyBWSICzL33Xdf4HdHyjGAiy9IIKEIUI4R0tmuXTslxZw5c0q5cuVk1KhRgq/a169fV116IMrnn38+Qg3ebuKZo7c8WRsJRCJAOUag89Zbbyk51qpVKyQK6yDHZ555JmRbrFZQjrEiy3pJIJQA5RjKJLDm1VdfVQJEf8bMZdasWZInTx61DfNJmyqUoynS3A8JsJ9jxGOgRYsWSoC33XaboMtOzZo15W9/+5vccccdkjt3brUtX758cvHixYj1eLWRcvSKJOshgegEeOYYgRE6gVeoUEEyX5CBFD///HPV7/Ghhx5SgpwyZUqEWrzbRDl6x5I1kUA0ApRjNEIi6hbBlStXCm4lvHz5sot3xCaEcowNV9ZKAuEIUI7hqPh0HeXo08SwWQlJgHK0KK2Uo0XJYlOtJ0A5WpRCytGiZLGp1hOgHC1KIeVoUbLYVOsJUI4WpZBytChZbKr1BChHi1JIOVqULDbVegKUo0UppBwtShabaj0BytGiFFKOFiWLTbWegHVyxOg4GPChQIECcXlgPpm//OUv8uyzzxrfv3M/t/VHHT8ACVhAwDo5Hj9+XBYsWBC3R5kyZQQj8lStWlW6d+8uqampRtuydetWCw4rNpEE7CdgnRzjjfzbb7+VzZs3y9y5c6VNmzby3XffyS+//GJs8Il4f37unwSShQDlqJlpyNE5eztz5ozMnDlTmjRpIh07dpTFixdr1sZwEiABvxKgHDUzk1mOzlsPHz4sEyZMkNq1a0vPnj1l9erVziY+kwAJWEqActRMXDg5OlXs2rVLRowYIZUrV5YBAwbIli1bnE18JgESsIwA5aiZsEhydKrCb5KQIyQJWe7evdvZxGcSIAFLCFCOmolyI0enylWrVkmPHj2kTp066ms3vn6zkAAJ2EGActTMk44cnapxoaZDhw7StGlTdQEHF3JYSIAE/E2ActTMT3bkiF1gnhl0+WnZsqW0bdtW5s2bJ1evXtXcO8NJgARMEaAcNUlnV47Obk6cOCFTp06Vhg0bSufOnWXZsmXOJj6TAAn4iADlqJmMW5Wjs7v9+/fLmDFjpEaNGtK7d29Zv369s4nPJEACPiBAOWomwSs5OrtNT0+XIUOGqFkOBw8eLNu3b3c28ZkESCCOBChHTfhey9HZPUbc6dOnj1SvXl1Gjx4t+/btczbxmQRIIA4EKEdN6LGSo9OM5cuXS5cuXaRBgwaC+bAx0AYLCZCAeQKUoybzWMsRzbl27ZrMnz9fUlJS1NXttLQ0uXDhgmZLGU4CJHArBChHTXom5Og06ezZs2pItGbNmkn79u1l0aJFziY+kwAJxJgA5agJ2KQcnaYdPXpUJk6cKHXr1lVjSOLOGxYSIIHYEqAcNfnGQ45OE/fs2SMjR46UKlWqSP/+/WXTpk3OJj6TAAl4TIBy1AQaTzk6TcV4kgMHDpRKlSrJ8OHDJSMjw9nEZxIgAY8IUI6aIP0gR6fJa9askV69eqlxJMePHy+HDh1yNvGZBEjgFglQjpoA/SRHp+lLliyR77//Xho3biwzZsyQ06dPO5v4TAIkkE0ClKMmOD/KER/h0qVLMnv2bGnVqpW0bt1azXFz5coVzU/HcBIgAYcA5eiQcPnsVzk6zT916pRMmzZNGjVqJJ06dZKlS5c6m/hMAiSgQYBy1ICFUL/L0fk4Bw8elLFjx0rNmjXlhx9+kLVr1zqb+EwCJOCCAOXoAlLmEFvk6LR5586dMmzYMKlYsaIMGjRItm3b5mziMwmQQAQClGMEOOE22SZH5zNs3LhR+vXrJ1WrVpVRo0bJ3r17nU18JgESCEOAcgwDJdIqW+XofKYVK1ZIt27dpF69ejJ58mQ5duyYs4nPJEACmQhQjplguHlpuxydz7hgwQJp166dNG/eXGbNmiXnz593NvGZBEhARChHzcMgUeSIjw0hQowQJEQJYbKQAAn8jwDlqHkkJJIcnY+Or9aTJk1SX7XxlRtfvVlIINkJUI6aR0AiytFBgIs0uFiDiza4eIOLOCwkkKwEKEfNzCeyHB0U6O6Dbj/o/oNuQOgOxEICyUaActTMeDLI0UGCjuPoQI6O5OhQjo7l8Sxz586VOnXqJO0DvQtYzBGgHDVZJ5McHTS4BRG3IuKWRNyaiFsU41Hee+89KVCggBrPEmNaJtPjj3/8ozz55JPxwJ60+6QcNVOfjHIEIgxiMWfOHDWoBQa3wCAXly9f1qR3a+GFChVSg/zeWi12vhujLRUsWNDOxlvaaspRM3HJKkcHE4ZDwx8qhkfDMGkYLs1UoRwpR1PHGvZDOWrSTnY5OrgwsC4G2K1Vq5YacBcD78a6UI6UY6yPscz1U46Zabh4TTkGQ8IUDZiqAVM2/Pjjj4IpHGJVKEfKMVbHVrh6KcdwVCKsoxzDw8FkX5j0CxdJMAkYJgPzulCOlKPXx1Sk+ijHSHTCbKMcw0DJtGrlypVq+lhMI4vpZDGtrFeFcqQcvTqW3NRDObqhlCmGcswEI8LLhQsXSvv27aVZs2aSmpoqZ8+ejRDtbhPlSDm6O1K8iaIcNTlSju6BXbhwQdLS0qRFixaSkpIi8+fPl2vXrrmvIEsk5Ug5ZjkkYrpIOWripRw1gYnI8ePHZcqUKVK/fn3p2rWrLF++/KaVRPoaTjlSjjc9cGKwgXLUhEo5agLLFL5v3z4ZPXq0VK9eXfr06SMbNmzItFUE3YGKFCkiR44cCVrvLJiUI4SO/pzLli1zdh/XZ3YCN4+fctRkTjlqAgsTvn37dhk8eLBUqFBBhgwZIjt27JDr16+re7ghR4wKdObMmZB3mpQj7gbKkSOHPPvssyHtiMcKytE8dcpRkznlqAksQvi6deukd+/eUqNGDXXvdokSJdSZI54bNmwYcnsi5civ1REOJ883UY6aSClHTWAuwnELYpkyZZQYceaIBwSJq904o3QK5Ug5OseCiWfKUZMy5agJzEU4RvopWbJkkBwhSKwbMGBAoIZ4yhFjXKJz+7x58+TcuXOBNpl6wa/Vpkjf2A/leIOFq1eUoytMroMwj41zthjuGWeQmMIBJR5yfOyxx+Tzzz9Xvz/iN0g88uXLZ3x0IMrR9SHlWSDlqImSctQEFiUcF2dat26tLsbgTLFo0aJSqlQpKV26tBQrViwgTsghHnJ0hPj+++9LmzZt5N///ndAlBgt3VShHE2RvrEfyvEGC1evKEdXmLIddOLECcF92hgvElM0QJzOGeVHH31k7IzNuVoNOZYrVy7o89SuXVsJEgPvmhrTknIMSoGRBcpREzPlqAnMo3DcWfPBBx8YlyO+QmftmI6R0O+8804lSFMzNVKOHh1IGtVQjhqwEEo5agLzMDweX6v/8Ic/hP0EL7/8spLjiBEjwm73eiXl6DXR6PVRjtEZBUVQjkE4jC7EQ45/+9vfwn5GzGeDr9w9evQIu93rlZSj10Sj10c5RmcUFEE5BuEwuhAPOb766qthP+Pzzz+v5IhuSCYK5WiCcvA+KMdgHlGXKMeoiGIWEA855s2bN2S2RYx+njt3biXHWI58nhkk5ZiZhpnXlKMmZ8pRE5iH4fGQI746Fy9ePDDU2sWLFwPded59910PP13kqijHyHxisZVy1KRKOWoC8zA8XnKEIF988UUpW7asGogCy7iKvWrVKg8/XeSqKMfIfGKxlXLUpEo5agLzMDwecixcuLCaPMz5Gg0xvvTSS4JBM0wWytEk7f/ti3LUZE45agLzMNykHLM2G7c5/vrrr3L48OGsm4wsU45GMAfthHIMwhF9gXKMzihWEfGUY6w+k9t6KUe3pLyLoxw1WVKOmsA8DKccOWSZh4dT1Koox6iIggMox2AeJpcoR8rR5PFGOWrSphw1gXkYTjlSjh4eTlGrohyjIgoOoByDeZhcohwpR5PHG+WoSZty1ATmYTjlSDl6eDhFrYpyjIooOIByDOZhcolypBxNHm+UoyZtylETmIfhlCPl6OHhFLUqyjEqouAAyjGYh8klDBNWpUoVWb16dVweCxcujMt+8XlTUlLkd7/7nUncSb8vylHzEKAcNYF5GN6oUSPJmTOn3HfffUYfDzzwgLz22muCeWTefPNNefjhh43uH583V65cavpaD3GyqigEKMcogLJuphyzEkns5d27d0vv3r3VXDZTpkyR77//Xrp06SKYqpUlsQlQjpr5pRw1gVkcjlF3MMEX5AhJouDeasw62KRJE1m8eLHFn45Nj0aAcoxGKMt2yjELkARd/Pnnn9V0sWPGjJFz584Ffcrr168LziJxLOAZyyyJR4By1Mwp5agJzLLwM2fOyE8//SR16tRR08NGaj7OHHEGiTPJI0eORArlNgsJUI6aSaMcNYFZFL5z507p2bOnujK8du1aVy3HNAn4DRK/RW7evNnVexhkBwHKUTNPlKMmMEvCly9fLi1btpR+/frJvn37tFp97NgxGTp0qDRs2FAWLFig9V4G+5cA5aiZG8pRE5gF4TNnzpRq1arJ+PHjBXPEZLdMnz5d9cOcOHGiXLlyJbvV8H0+IUA5aiaCctQE5uPwkydPyvDhw6V+/foyb948T1qK0cKbN28uAwYMkIMHD3pSJyuJDwHKUZM75agJzKfh6enp0q1bN+nQoYNs2LDB01ai7u7du0v79u09r9vThrKyiAQox4h4QjdSjqFMbFuzdOlSadasmQwcODBmZ3c4Kx0xYoTUq1fPs7NS2zjb3l7KUTODlKMmMJ+FT5s2TSpXriyTJk0y8rtgamqq+j1z3Lhxt/R7ps8wJkVzKEfNNFOOmsB8Eo4rykOGDBHcn40BJEyWFStWyHfffSd9+/bVvhJusp3cVzAByjGYR9QlyjEqIt8FoC9i586dpVOnTnHri5iRkSG9evWStm3bits+lL4DmWQNohw1E045agKLczjuYmncuLEMHjw47nex4O6bUaNGSe3ataPefRNnbNy9iFCOmocB5agJLE7h165dk8mTJ6v7n6dOneqr+5/T0tLUfdujR48OuW87Tri42zAEKMcwUCKtohwj0fHHNoyc8+OPP0rTpk1lyZIl/mhUllZgAFuM+PPDDz8ERvzJEsLFOBOgHDUTQDlqAjMcvmnTJunYsaN07drV92Mu7tmzR/r06SOtWrUSDI/G4i8ClKNmPihHTWAGw3Ffc4MGDWTYsGFy/Phxg3vO/q7Onz8vY8eOlRo1agiGSWPxDwHKUTMXlKMmMAPhly9flgkTJqj7mmfMmGFgj97vYs6cOWqYNAyXdvr0ae93wBq1CVCOmsgoR01gMQ4/cOCA9O/fX93PvGzZshjvLbbVr1u3Tg2X1qNHD8HwaSzxJUA5avKnHDWBxTB8/fr10q5dO4FMduzYEcM9mat6//79ati0Fi1aCIZRY4kfAcpRkz3lqAksRuFz586VunXrysiRI+XUqVMx2kt8qr106ZL6maBq1aqC4dRY4kOActTkTjlqAvM4/MKFC4L7lKtXry6zZs3yuHZ/VTd//nw1nBqGVTtx4oS/GpcEraEcNZNMOWoC8zB87969qusL7lNeuXKlhzX7t6qNGzeqYdUwvNr27dv929AEbBnlqJlUylETmEfha9askTZt2qhO07t27fKoVjuqOXTokBpeDZ3aMdwaixkClKMmZ8pRE5gH4b/88ovUqlVLcLvd2bNnPajRviquXr2qhlmrVKmSYNg1ltgToBw1GVOOmsBuIRwihBAhRgiSRWTRokVq2DUMv3b06FEiiSEBylETLuWoCSyb4fjqjCG+8FUaX6lZbhDYsmWLGn4Nw7DhNUtsCFCOmlwpR01g2QjHxRZcdMF9x7gIwxJKAGeNGIYNw7HhbJLFewKUoyZTylETmGY4uuegmw6666DbDktkAhiODb9DYng2/C7J4h0BylGTJeWoCcxlODpyo0M3OnajgzeLewIYlg1XsjFMG65ss3hDgHLU5Eg5agJzEY5b/3ALIG4FxC2BLPoE0AcSw7RhuDb0jWS5dQKUoyZDylETWJRwDBbRvHlzNXgEBpFgyT4B3EWD4dowbBvurmG5NQKUoyY/ylETWIRwDC9WpUoVmThxomDYMRZvCIAr7svGMG64T5slewQoR01ulKMmsDDhGIjWOcPBALUs3hPAGTlG9sFwbhjph0WfAOWoyYxy1ASWJXzbtm2B38YwpQFL7Ahk/i0XY0Wy6BGgHPV4qdnsMA8yiz4BXFVt0qSJuqqKSbBYYk8Ao4o7vQAw2jiLewKUo3tWKpJnjprARNS0qOiPB3boj4dpU1nMEkD/UcxTg/lqMG8NS3QClGN0RkERlGMQjqgLR44cCdzJsXjx4qjxDIgdAdx5hJkOcecRZj5kiUyAcozMJ2Qr5RiCRK24fv16yIbNmzcH7gHmTxEheOKyAvesY65s3LOOubNZbk6Acrw5m7BbKMdQLBj8AKPEZC4LFy4MjB5z7NixzMJGwNQAABSUSURBVJv4Os4Ezp07FxjtKC0tLag1U6ZMEfw2zCJCOWoeBZRjMDDczwsmRYoUEQjxypUratzBypUrc9zBYFS+W8IwcLVr15ZRo0apcTI3bNig8lisWDHe1y6Uo/YBSzkGI5s0aZKULFlS/VF9+eWXqptOs2bNOGJ1MCbfLmE4uLZt2wqGPytdurQULVpU5XPgwIG+bbOphvHMUZM05XgDGIbNKlGihBIjzhxxxlG2bFneH30DkRWvMjIypEKFClK8ePFALvEa65O5UI6a2accbwBLSUkRnC1CjM4DsmzZsqXqvnMjkq/8TKB79+6Bs38nj/hHV69evaTOI+WoedRSjv8Dhm4hmc8anT8q5xkdj1n8TyA1NTXwj83JnfOMn0sSffrbSBmiHCPRCbONchS5ePGilC9fPuiPCl/D8MeEr9XoKoIf91n8TwBDnQ0YMEDKlSunvgVk/moNSZYqVUow1mYyFspRM+uUo8jQoUOVGDMLsXfv3uq3Rt79onlA+SQc/VTRFxUD5mYWJS7QdOrUySetNNsMylGTd7LLEXO6OF+7KETNg8eS8MyihByR72T8JkA5ah6w8ZQjBjN98cUX5emnn47b4/XXX5c//elP8swzzxhvw+OPPy6rVq3SzFhihOPK8VNPPWWcOY61l19+Wd5888247Ns51vHZcXePyUI5atKOpxzx3ztHjhxqDmd04E22x4MPPqjGJ9RMWUKEYwDb3LlzJ13OnWP89ttvF1w8MlkoR03a8ZZj/vz5NVucOOGFChVKajkWLFgwcZKp+Umef/55ylGTmfFwytE48sAOKUfKMXAwGHjBM0dNyJSjJjAPwylHytHDwylqVZRjVETBAZRjMA+TS5Qj5WjyeKMcNWlTjprAPAynHClHDw+nqFVRjlERBQdQjsE8TC5RjpSjyeONctSkTTlqAvMwnHKkHD08nKJWRTlGRRQcQDkG8zC5RDlSjiaPN8pRkzblqAnMw3DKkXL08HCKWhXlGBVRcADlGMzD5BLl6A85YhZJ3LGDmSVNFXYCN0X6FvZDOd4CvFt8K+XoDzm+8sor6jbWadOm3WJG3b+dcnTPKm6RlGPc0AvlSDmaPPr4tVqTNuWoCczDcMqRcvTwcIpaFeUYFVFwQLLKEVOwLl26VIYNGyYLFixQo4EHk4n9EuUYHzmuXbtWMO1Fenq6SjK/Vsf+WLdyD8kmRwx8WqVKFbn77rvV70wYMg2Pxx57TGbOnGk0h5SjWTmOGDFCHn300aC8/+tf/5LnnnuOvzkaPfIt2VmyybFu3brqDyFPnjxSsWJFadKkibzwwgtq3Z133imbN282ljnK0Zwcly1bJnnz5lV5/uc//ymtW7eWDz/8UC07/yB5QcbYoW/HjpJJjvPnz1d/DDlz5hR033DK5cuX5fe//73aVr16dWd1zJ8pR3NyxEjvkGDlypWD8lq7du2AICnHIDRcSCY5dujQQf0hfPbZZyGJT0tLk6ZNmxr9ak05mpHjsWPHVN7vuOOOkL6MmInQ+YmFcgz5s0juFckkR8wuiLOHlJQUXySdcjQjx9mzZ6u8Y96WcOWNN95Q2ynHcHSSeF0yyRGTaUGO/fv390XGKUczchw4cKDKOyZSC1c+/vhjyjEcmGRfl0xy/PTTT9UfAX6Mz1ouXLgg6OJx+vTprJtitkw5mpEjumzhnyJ6JIQrb7/9NuUYDkyyr0smOTpXqnGVMmtp166d+gN59tlns26K2TLlaEaO+MeHmQ5xIW7Lli1B+cQ/Q0zyBnnya3UQGi4kkxwxRzT+QPCHMGXKlEDy8aP8I488otZDoKYK5WhGjsjne++9p/IL5ufPn1cpRp9XHP84HihHU0e9RftJJjkiLejbiD8ESPKjjz6S//73v5IvXz61rkCBAoIrm6YK5WhOjgcOHAh0AMeFma+//lpeffXVgBgpR1NHvUX7STY54myhU6dOga9SzllD4cKFZfv27UYzRzmakyMSi9+UkWenM/jtt98uZcqUUf8gcRykpqYayz9H5TGGOvs7SjY5OqQgyZ07d6r7q48fP+6sNvpMOZqVo5Pcs2fPyq+//irnzp1zVhl/phyNI9ffYbLKUZ+U9++gHOMjR+8zqV8j5ajPzPg7KEfjyAM7pBwpx8DBYOAFhyzThEw5agLzMJxypBw9PJyiVkU5RkUUHEA5BvMwuUQ5Uo4mjzfKUZM25agJzMNwypFy9PBwiloV5RgVUXAA5RjMw+QS5Ug5mjzeKEdN2pSjJjAPwylHytHDwylqVZRjVETBAZRjMA+TS5Qj5WjyeKMcNWnHW464M6FZs2ZJ+cBn98vwaZqHzS2Hz5gxQ926F4/cN2rUSOrUqRPXY870HTlIGOWoedjGU46XLl0SDPTw1VdfJeWjXLlygnt+k7FgsA9MWWAy96VLl5YSJUpIsWLFBAMfly1b1uj+M39WTPJmcng8yjEbf2XxlGM2msu3kIAWAUh47ty50rVrV6lQoYL07t1b3TKKf8zJVnjmqJlxylETGMOtILBt2zYZPXq0NGzYUH19njBhgrqX3orGx6iRlKMmWMpRExjDfUsAA0osWLBAunfvLvjJomfPnrJo0aLA+I2+bbihhlGOmqApR01gDPcdgfT0dBk7dqyag7xx48bqNdaxBBOgHIN5RF2iHKMiYoAPCWA0b8w93qtXL3WWiLNFnDWeOXPGh631R5MoR808UI6awBgeVwIZGRmC3w/RBQi/J44aNUq2bt0a1zbZsnPKUTNTlKMmMIYbJ4Ary5hBEFeaMc1Fly5d1BVoXIlmcU+AcnTPSkVSjprAGG6MwO7du2Xy5MnSsmVLqVevnowcOVI2b95sbP+JtiPKUTOjlKMmMIbHlMDVq1dl+fLl0q9fP6lUqZKa7+eXX36ReE1lEdMPa7hyylETOOWoCYzhMSGwb98+mTp1qrRq1Urd2jds2DDZsGFDTPaVrJVSjpqZpxw1gTHcMwKY5GzlypUycOBAqVq1qnTo0EF+/vlnOXr0qGf7YEU3CFCON1i4ekU5usLEIA8JHDx4UDDwRNu2baVmzZoyZMgQNW2qh7tgVWEIUI5hoERaRTlGosNtXhJYs2aNDBo0SKpXry7t2rWTmTNnyqFDh7zcBeuKQIByjAAn3CbKMRwVrvOKwOHDhyU1NVXat28v1apVkx9//FFWr17tVfWsR4MA5agBC6GUoyYwhrsisH79ehk6dKjUqlVL2rRpI9OnT5f9+/e7ei+DYkOActTkSjlqAmP4TQkcO3ZM0tLSpGPHjoLxCjGQ74oVK+TatWs3fQ83mCNAOWqyphw1gTE8hMDGjRtlxIgRauDi7777TqZMmSJ79+4NieOK+BKgHDX5U46awBiuCJw8eVLmzJkjnTt3Vj/N9O3bV5YtWyaXL18mIZ8SoBw1E0M5agJL8vAtW7bITz/9JPXr15cWLVrIxIkTZdeuXUlOxY6PTzlq5oly1ASWhOGY62TevHnSrVs3NdXADz/8IEuWLJGLFy8mIQ17PzLlqJk7ylETWBKFb9++XcaMGSOYra9p06Yyfvz4pJ9qwOb0U46a2aMcNYElePi5c+dk4cKF0qNHD/nmm2/UVANYxnoWuwlQjpr5oxw1gSVo+I4dO2TcuHHqDBFTDeCMEWeOLIlDgHLUzCXlqAksgcIvXLigfjvEb4jly5dXvynOnz+fUw0kUI4zfxTKMTMNF68pRxeQEiwEV5dxlbl58+bSoEEDTjWQYPm92cehHG9G5ibrKcebgEmw1eh/+Ouvv0qfPn1Uv0T0T0Q/RfRXZEkOApSjZp4pR01gloXv2bNH3bGCO1fq1q2r7mTZtGmTZZ+CzfWCAOWoSZFy1ARmQTjuZcY9zbi3uXLlyvL9998LpxqwIHExbiLlqAmYctQE5uNwjHozbdo0ad26tdSuXVuNioPRcVhIAAQoR83jgHLUBObD8FWrVqlxEjFeIsZNnDVrlhw5csSHLWWT4kmActSkTzlqAvNJOEbQxkjaKSkpUqNGDRk8eDCnGvBJbvzaDMpRMzOUoyawOIevXbtWiRBChBgxFwvmZGEhgWgEKMdohLJspxyzAPHhIr4i46syZufDLH2YrQ9fpVlIQIcA5ahDi9MkaNIyG455mzF/My6u4CILLrZwqgGzOUikvVGOUbKJTr/o74avZfXq1ZMyZcoEXmNo+0WLFkWpgZtjSeD48eOq2w2636AbDrrjLF++XK5evRrL3bLuJCBAObpI8ldffSVFihQJ++BUmS4AxiAEHbMx1QD+YbVs2VImT54s6MDNQgJeEaAcXZDETHClSpUKkSNGd2YxRwBn8XPnzpUuXbpIxYoV1a19uMWPUw2Yy0Ey7YlydJHtU6dOSbFixYLkCFn+/PPPLt7NkFslsHXrVjXYAwZ9wOAPGAQiIyPjVqvl+0kgIgHKMSKeGxtxr23RokUDgixevLicPXv2RgBfeUrgzJkzguHAMNUAhgfr1auXLF68WDBsGAsJmCBAObqkjAsvzldrSLJdu3Yu38kwHQIYMHbs2LGCAWSbNGmiBpTFwLIsJGCaAOXokvilS5ekZMmS6swRz7giyuINgfPnz6ur/j179lRTDWDKAU414A1b1pJ9ApSjBjv88eKssXTp0nLlyhWNdzI0HIGdO3eqSagwGRUmpRo9erRs27YtXCjXkYBxApSjBnJ0MkaXnt69e2u8i6GZCWB6UkxTCoYVKlSQrl27qmlMMZ0pCwn4iQDlqJGN69evKzlCkix6BHbv3i2TJk1SE9ujCxQmuseE9ywk4FcC1slxzZo1UqdOnbg9cG91PPc/ZMgQvx5LIe3CTw/Lli2Tvn37BqYamD17tpw4cSIklitIwG8ErJMj7la55557BLfuJdvjgw8+kBw5/J+yvXv3qqkGWrVqpf6RDB8+XDZu3Oi3Y5/tIYGIBPz/l5al+ZBjs2bNsqxNjkV8nc+fP78vPyymGli5cqUMGDBA/dPq2LGjpKWlybFjx3zZXjaKBKIRoByjEfLRdj/K8cCBA4LbK9u0aSO1atVSUw2sW7fOR9TYFBLIHgHKMXvc4vIuP8lx9erVaqqB6tWrqw7xqampcvjw4bhw4U5JIBYEKMdYUI1RnfGWI0YgggRxdxCkOGjQIMEFMhYSSEQClKNFWY2XHPE1GVfJa9asKW3btlVTDeDrNAsJJDIBytGi7JqU49GjR9WoQ85UA7jQggsu6OvJQgLJQIBytCjLJuSIfaDrDfpyoivO1KlTZd++fRZRYlNJwBsClKM3HI3UEis5YqoBdM7u1KmTVKpUSfr166cG1uD940bSyp34lADl6NPEhGuW13LcvHmzjBw5MjDVAG7vw21+LCRAAiKUo0VHgRs54u6USJNLYVRzZ6oBDPyAASCWLl0qGJKNhQRI4AYByvEGC9+/iiZHTDqFUYPCjTWJqQYwJFjDhg3VHUYTJkzgVAO+zzgbGE8ClGM86WvuO5IcMdHUl19+qeSI2fhQMI3DggULpHv37lKuXDk11QBGNMfgsiwkQAKRCVCOkfn4auvN5IiO2Y4YceaIycAGDx6sphrAdAOYdiA9Pd1Xn4WNIQG/E6AcXWYIw2zNmTNHhg0bJqtWrYrLb3Th5IgLKpnFCDliGTP14ayRk4C5TDDDSCALAcoxC5Csi5gTGaLJlSuXGi4MQ4bh8cADD6gBF7LGx3I5sxxx0QUz8pUoUUJ9lYYUMz/Kli0b8cJMLNvJukkgEQhQjlGyiK+okGGePHnUsP64r/jDDz8MiHLmzJlRavBusyNHXFnGKDg3E6MjSUxHwEICJJA9ApRjBG74WuqcKWaVYN26ddW25557zthkW5Djfffdp644OwJ0niFxzIqIM0ZcfIE4MTAECwmQQPYIUI4RuOFuEcixYMGCIVHoT3jbbbep7abGL4Qc77//fnU735EjRwR9FjHJfaR+jSEN5woSIAFXBCjHCJgKFSqk5HfvvffKe++9F/K4/fbb1fZx48ZFqMW7Tc7Xau9qZE0kQAI3I0A53oyMiLzwwgtKfs5X65s9d+vWLUIt3m2iHL1jyZpIIBoByjECoX/84x9KjikpKarrDi6EhHtg/hQThXI0QZn7IIH/EaAcIxwJzm+OhQsXDok6efKkfPLJJ1KqVClZu3ZtyPZYrKAcY0GVdZJAeAKUY3guai26wjgXXfr37x8UWbp0aXVW+cwzz8jFixeDtsVqgXKMFVnWSwKhBCjHUCZBa8qXLx/43fGvf/2rlClTRp544gm1DuKcP39+UHwsFyjHWNJl3SQQTIByDOYRsoRpAXr27Kn6F2a+IPPwww+rOZpD3hDDFZRjDOGyahLIQoByzAIk0iKmC8CoNhkZGXHpW0g5RsoOt5GAtwQoR295xrQ2yjGmeFk5CQQRoByDcPh7gXL0d37YusQiQDlalE/K0aJksanWE6AcLUoh5WhRsthU6wlQjhalkHK0KFlsqvUEKEeLUkg5WpQsNtV6ApSjRSmkHC1KFptqPQHK0aIUUo4WJYtNtZ6AlXL89NNPZfXq1Un3GD58uLrX2/qjjh+ABCwgYJ0cMakUJrvCdAHJ9sibN68acNeC44pNJAHrCVgnR+uJ8wOQAAlYQYBytCJNbCQJkIBpApSjaeLcHwmQgBUEKEcr0sRGkgAJmCZAOZomzv2RAAlYQYBytCJNbCQJkIBpApSjaeLcHwmQgBUEKEcr0sRGkgAJmCZAOZomzv2RAAlYQYBytCJNbCQJkIBpApSjaeLcHwmQgBUEKEcr0sRGkgAJmCZAOZomzv2RAAlYQYBytCJNbCQJkIBpApSjaeLcHwmQgBUEKEcr0sRGkgAJmCZAOZomzv2RAAlYQYBytCJNbCQJkIBpApSjaeLcHwmQgBUEKEcr0sRGkgAJmCZAOZomzv2RAAlYQYBytCJNbCQJkIBpApSjaeLcHwmQgBUEKEcr0sRGkgAJmCZAOZomzv2RAAlYQYBytCJNbCQJkIBpApSjaeLcHwmQgBUEKEcr0sRGkgAJmCZAOZomzv2RAAlYQYBytCJNbCQJkIBpAv8P/ULG0wi3e10AAAAASUVORK5CYII=)"
      ]
    },
    {
      "cell_type": "markdown",
      "metadata": {
        "id": "mtUYxQJqoPc5"
      },
      "source": [
        "root, a, b, c, d, and e are referred to as nodes. \n",
        "\n",
        "The arrows that connect the nodes are called edges.\n",
        "\n",
        " A graph is a collection of nodes that are connected by edges.\n",
        " \n",
        "A directed acyclic graph is a special type of graph with properties that’ll be explained in this post."
      ]
    },
    {
      "cell_type": "code",
      "metadata": {
        "id": "DQVNDRbtnrqz"
      },
      "source": [
        "import networkx as nx\n",
        "graph = nx.DiGraph()\n",
        "graph.add_edges_from([(\"root\", \"a\"), (\"a\", \"b\"), (\"a\", \"e\"), (\"b\", \"c\"), (\"b\", \"d\"), (\"d\", \"e\")])"
      ],
      "execution_count": 1,
      "outputs": []
    },
    {
      "cell_type": "markdown",
      "metadata": {
        "id": "KcVFZM8xn6WK"
      },
      "source": [
        "DiGraph is short for “directed graph”.\n",
        "\n",
        "The directed graph is modeled as a list of tuples that connect the nodes. Remember that these connections are referred to as “edges” in graph nomenclature. Take another look at the graph image and observe how all the arguments to add_edges_from match up with the arrows in the graph."
      ]
    },
    {
      "cell_type": "markdown",
      "metadata": {
        "id": "RSksoKpWn9jp"
      },
      "source": [
        "networkx is smart enough to infer the nodes from a collection of edges."
      ]
    },
    {
      "cell_type": "code",
      "metadata": {
        "colab": {
          "base_uri": "https://localhost:8080/"
        },
        "id": "0vQ6-HGxn1nr",
        "outputId": "695dea24-6622-4af3-bf01-a4389f88eb9b"
      },
      "source": [
        "graph.nodes() # should give output as   => NodeView(('root', 'a', 'b', 'e', 'c', 'd'))"
      ],
      "execution_count": 2,
      "outputs": [
        {
          "output_type": "execute_result",
          "data": {
            "text/plain": [
              "NodeView(('root', 'a', 'b', 'e', 'c', 'd'))"
            ]
          },
          "metadata": {},
          "execution_count": 2
        }
      ]
    },
    {
      "cell_type": "markdown",
      "metadata": {
        "id": "isV6Wu3uoW9i"
      },
      "source": [
        "##Shortest path"
      ]
    },
    {
      "cell_type": "markdown",
      "metadata": {
        "id": "KmyACgWpouGK"
      },
      "source": [
        "The shortest path between two nodes in a graph is the quickest way to travel from the start node to the end node."
      ]
    },
    {
      "cell_type": "code",
      "metadata": {
        "colab": {
          "base_uri": "https://localhost:8080/"
        },
        "id": "7LNt72NYoWm3",
        "outputId": "11298c35-5fc3-4eb1-e435-b3e1a39c7cac"
      },
      "source": [
        "nx.shortest_path(graph, 'root', 'e') # should give output as  => ['root', 'a', 'e']"
      ],
      "execution_count": 3,
      "outputs": [
        {
          "output_type": "execute_result",
          "data": {
            "text/plain": [
              "['root', 'a', 'e']"
            ]
          },
          "metadata": {},
          "execution_count": 3
        }
      ]
    },
    {
      "cell_type": "markdown",
      "metadata": {
        "id": "6D5DARnpowqy"
      },
      "source": [
        "##Longest path"
      ]
    },
    {
      "cell_type": "markdown",
      "metadata": {
        "id": "q7K93_AWozcx"
      },
      "source": [
        "The dag_longest_path method returns the longest path in a DAG."
      ]
    },
    {
      "cell_type": "code",
      "metadata": {
        "colab": {
          "base_uri": "https://localhost:8080/"
        },
        "id": "8AaGBEP6oAGB",
        "outputId": "66d545ad-eb37-46cf-e22c-fa91df60235b"
      },
      "source": [
        "nx.dag_longest_path(graph) # should give output as => ['root', 'a', 'b', 'd', 'e']"
      ],
      "execution_count": 4,
      "outputs": [
        {
          "output_type": "execute_result",
          "data": {
            "text/plain": [
              "['root', 'a', 'b', 'd', 'e']"
            ]
          },
          "metadata": {},
          "execution_count": 4
        }
      ]
    },
    {
      "cell_type": "markdown",
      "metadata": {
        "id": "cAfmPyfwo-HS"
      },
      "source": [
        "##Topological sorting"
      ]
    },
    {
      "cell_type": "markdown",
      "metadata": {
        "id": "8VBe4MMDpHBZ"
      },
      "source": [
        "Our graph has nodes (a, b, c, etc.) and directed edges (ab, bc, bd, de, etc.). Here’s a couple of requirements that our topological sort need to satisfy:\n",
        "\n",
        "for ab, a needs to come before b in the ordering\n",
        "\n",
        "for bc, b needs to come before c\n",
        "\n",
        "for bd, b needs to come before d\n",
        "\n",
        "for de, d needs to come before e\n"
      ]
    },
    {
      "cell_type": "code",
      "metadata": {
        "colab": {
          "base_uri": "https://localhost:8080/"
        },
        "id": "kCkjTi0Go5HF",
        "outputId": "0fe9df48-d65c-42ab-9455-4ecbfdc3716c"
      },
      "source": [
        "list(nx.topological_sort(graph)) # => ['root', 'a', 'b', 'd', 'e', 'c']"
      ],
      "execution_count": 5,
      "outputs": [
        {
          "output_type": "execute_result",
          "data": {
            "text/plain": [
              "['root', 'a', 'b', 'c', 'd', 'e']"
            ]
          },
          "metadata": {},
          "execution_count": 5
        }
      ]
    },
    {
      "cell_type": "markdown",
      "metadata": {
        "id": "QAcIAliqpS_J"
      },
      "source": [
        "Observe that a comes before b, b comes before c, b comes before d, and d comes before e. The topological sort meets all the ordering requirements."
      ]
    },
    {
      "cell_type": "markdown",
      "metadata": {
        "id": "LP09ya9ZpWyC"
      },
      "source": [
        "##Checking validity"
      ]
    },
    {
      "cell_type": "code",
      "metadata": {
        "colab": {
          "base_uri": "https://localhost:8080/"
        },
        "id": "BfVLrL8PpOUo",
        "outputId": "90eefd04-aecb-42bf-e46f-ac5d5d3fc763"
      },
      "source": [
        "nx.is_directed(graph) # => True"
      ],
      "execution_count": 6,
      "outputs": [
        {
          "output_type": "execute_result",
          "data": {
            "text/plain": [
              "True"
            ]
          },
          "metadata": {},
          "execution_count": 6
        }
      ]
    },
    {
      "cell_type": "markdown",
      "metadata": {
        "id": "UJt6mQx3pdIS"
      },
      "source": [
        "We can also make sure it’s a directed acyclic graph."
      ]
    },
    {
      "cell_type": "code",
      "metadata": {
        "colab": {
          "base_uri": "https://localhost:8080/"
        },
        "id": "5B0FsGiRpanb",
        "outputId": "46709960-e0e0-419f-8096-ea3cc038f3c0"
      },
      "source": [
        "nx.is_directed_acyclic_graph(graph) # => True"
      ],
      "execution_count": 7,
      "outputs": [
        {
          "output_type": "execute_result",
          "data": {
            "text/plain": [
              "True"
            ]
          },
          "metadata": {},
          "execution_count": 7
        }
      ]
    },
    {
      "cell_type": "markdown",
      "metadata": {
        "id": "ukaMGXpqp3G5"
      },
      "source": [
        "##Multiple roots\n",
        "\n",
        "A DAG can have multiple root nodes."
      ]
    },
    {
      "cell_type": "markdown",
      "metadata": {
        "id": "B_VKtFQ0p7bC"
      },
      "source": [
        "![image.png](data:image/png;base64,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)"
      ]
    },
    {
      "cell_type": "code",
      "metadata": {
        "colab": {
          "base_uri": "https://localhost:8080/"
        },
        "id": "aYhRzgy5p25S",
        "outputId": "2499ef83-01da-4b47-9f91-44e8cdd348d6"
      },
      "source": [
        "graph = nx.DiGraph()\n",
        "graph.add_edges_from([('m', 'p'), ('n', 'p'), ('o', 'p'), ('p', 'q')])\n",
        "nx.is_directed(graph) # => True\n",
        "nx.is_directed_acyclic_graph(graph) # => True\n",
        "list(nx.topological_sort(graph)) # => ['o', 'n', 'm', 'p', 'q']"
      ],
      "execution_count": 8,
      "outputs": [
        {
          "output_type": "execute_result",
          "data": {
            "text/plain": [
              "['m', 'n', 'o', 'p', 'q']"
            ]
          },
          "metadata": {},
          "execution_count": 8
        }
      ]
    },
    {
      "cell_type": "markdown",
      "metadata": {
        "id": "zfkzpIDPp_Ni"
      },
      "source": [
        "##Graphing a DAG (Using matplotlib)\n",
        "\n",
        "It’s easy to visualized networkx graphs with Matplotlib.\n",
        "\n",
        "\n",
        "\n"
      ]
    },
    {
      "cell_type": "code",
      "metadata": {
        "colab": {
          "base_uri": "https://localhost:8080/",
          "height": 248
        },
        "id": "NPVZI7fGqQWJ",
        "outputId": "52793bfc-f044-4683-eb73-4f5c7f4bce74"
      },
      "source": [
        "from matplotlib import pyplot as plt\n",
        "\n",
        "g1 = nx.DiGraph()\n",
        "\n",
        "g1.add_edges_from([(\"root\", \"a\"), (\"a\", \"b\"), (\"a\", \"e\"), (\"b\", \"c\"), (\"b\", \"d\"), (\"d\", \"e\")])\n",
        "plt.tight_layout()\n",
        "nx.draw_networkx(g1, arrows=True)\n",
        "plt.savefig(\"g1.png\", format=\"PNG\")\n",
        "\n"
      ],
      "execution_count": 14,
      "outputs": [
        {
          "output_type": "display_data",
          "data": {
            "image/png": "[encoded data removed]",
            "text/plain": [
              "<Figure size 432x288 with 1 Axes>"
            ]
          },
          "metadata": {}
        }
      ]
    },
    {
      "cell_type": "markdown",
      "metadata": {
        "id": "EEx9MxTUq6ai"
      },
      "source": [
        "visualize our directed, cyclic graph."
      ]
    },
    {
      "cell_type": "code",
      "metadata": {
        "colab": {
          "base_uri": "https://localhost:8080/",
          "height": 248
        },
        "id": "SZ3Cxc0oqiiZ",
        "outputId": "ecce2c69-bcb0-4254-ced5-a2b21000de79"
      },
      "source": [
        "g2 = nx.DiGraph()\n",
        "g2.add_edges_from([(1, 2), (2, 3), (3, 4), (4, 1)])\n",
        "plt.tight_layout()\n",
        "nx.draw_networkx(g2, arrows=True)\n",
        "plt.savefig(\"g2.png\", format=\"PNG\")\n"
      ],
      "execution_count": 16,
      "outputs": [
        {
          "output_type": "display_data",
          "data": {
            "image/png": "[encoded data removed]",
            "text/plain": [
              "<Figure size 432x288 with 1 Axes>"
            ]
          },
          "metadata": {}
        }
      ]
    },
    {
      "cell_type": "code",
      "metadata": {
        "id": "swNctMIDq8tR"
      },
      "source": [
        ""
      ],
      "execution_count": null,
      "outputs": []
    }
  ]
}